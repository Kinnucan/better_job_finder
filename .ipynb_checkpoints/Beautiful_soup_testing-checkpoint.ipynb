{
 "cells": [
  {
   "cell_type": "code",
   "execution_count": 9,
   "metadata": {
    "scrolled": true
   },
   "outputs": [
    {
     "name": "stdout",
     "output_type": "stream",
     "text": [
      "Requirement already satisfied: beautifulsoup4 in /Library/Frameworks/Python.framework/Versions/3.8/lib/python3.8/site-packages (4.10.0)\n",
      "Requirement already satisfied: soupsieve>1.2 in /Library/Frameworks/Python.framework/Versions/3.8/lib/python3.8/site-packages (from beautifulsoup4) (2.3)\n",
      "\u001b[33mWARNING: You are using pip version 21.0.1; however, version 21.3.1 is available.\n",
      "You should consider upgrading via the '/Library/Frameworks/Python.framework/Versions/3.8/bin/python3.8 -m pip install --upgrade pip' command.\u001b[0m\n"
     ]
    }
   ],
   "source": [
    "import sys\n",
    "!{sys.executable} -m pip install beautifulsoup4\n",
    "from bs4 import BeautifulSoup"
   ]
  },
  {
   "cell_type": "code",
   "execution_count": 10,
   "metadata": {},
   "outputs": [],
   "source": [
    "import requests"
   ]
  },
  {
   "cell_type": "code",
   "execution_count": 12,
   "metadata": {},
   "outputs": [],
   "source": [
    "base_url = \"https://www.indeed.com/jobs?q=software%20engineer&l=Saint%20Paul%2C%20MN&vjk=d22e26283d8484f6\"\n",
    "r = requests.get(base_url)\n",
    "soup = BeautifulSoup(r.content, 'html.parser')"
   ]
  },
  {
   "cell_type": "code",
   "execution_count": 37,
   "metadata": {},
   "outputs": [
    {
     "name": "stdout",
     "output_type": "stream",
     "text": [
      "['gnav-header-85m0bu', 'esbq1260']\n",
      "['icl-TextInput-icon', 'iconRight']\n",
      "[]\n",
      "['icl-Autocomplete-ariaResultsAvailable']\n",
      "['icl-Autocomplete-ariaResultsAvailable']\n",
      "['icl-TextInput-icon', 'iconRight']\n",
      "[]\n",
      "['icl-Autocomplete-ariaResultsAvailable']\n",
      "['icl-Autocomplete-ariaResultsAvailable']\n",
      "['css-85m0bu', 'esbq1260']\n",
      "['css-85m0bu', 'esbq1260']\n",
      "['css-85m0bu', 'esbq1260']\n",
      "['css-85m0bu', 'esbq1260']\n",
      "['new-ico']\n",
      "['serp-filters-sort-by-label']\n",
      "['no-wrap']\n",
      "['visually-hidden']\n",
      "['companyName']\n",
      "['ratingsDisplay', 'withRatingLink']\n",
      "['ratingNumber']\n",
      "['date']\n",
      "['visually-hidden']\n",
      "['visually-hidden']\n",
      "['label']\n",
      "['companyName']\n",
      "['ratingsDisplay', 'withRatingLink']\n",
      "['ratingNumber']\n",
      "['date']\n",
      "['visually-hidden']\n",
      "['visually-hidden']\n",
      "['label']\n",
      "['companyName']\n",
      "['ratingsDisplay', 'withRatingLink']\n",
      "['ratingNumber']\n",
      "['remote-bullet']\n",
      "['date']\n",
      "['visually-hidden']\n",
      "['visually-hidden']\n",
      "['label']\n",
      "['companyName']\n",
      "['iaIcon']\n",
      "['ialbl', 'iaTextBlack']\n",
      "['responsiveEmployerIcon']\n",
      "['date']\n",
      "['result-link-bar-separator']\n",
      "['mat']\n",
      "['mat']\n",
      "['visually-hidden']\n",
      "['visually-hidden']\n",
      "['companyName']\n",
      "['ratingsDisplay', 'withRatingLink']\n",
      "['ratingNumber']\n",
      "['date']\n",
      "['visually-hidden']\n",
      "['visually-hidden']\n",
      "['label']\n",
      "['companyName']\n",
      "['ratingsDisplay', 'withRatingLink']\n",
      "['ratingNumber']\n",
      "['date']\n",
      "['result-link-bar-separator']\n",
      "['mat']\n",
      "['mat']\n",
      "['visually-hidden']\n",
      "['visually-hidden']\n",
      "['companyName']\n",
      "['ratingsDisplay', 'withRatingLink']\n",
      "['ratingNumber']\n",
      "['date']\n",
      "['visually-hidden']\n",
      "['visually-hidden']\n",
      "['label']\n",
      "['companyName']\n",
      "['ratingsDisplay', 'withRatingLink']\n",
      "['ratingNumber']\n",
      "['date']\n",
      "['result-link-bar-separator']\n",
      "['mat']\n",
      "['mat']\n",
      "['visually-hidden']\n",
      "['visually-hidden']\n",
      "['companyName']\n",
      "['companyLocation--extras']\n",
      "['remote-bullet']\n",
      "['iaIcon']\n",
      "['ialbl', 'iaTextBlack']\n",
      "['date']\n",
      "['visually-hidden']\n",
      "['visually-hidden']\n",
      "['companyName']\n",
      "['ratingsDisplay', 'withRatingLink']\n",
      "['ratingNumber']\n",
      "['companyLocation--extras']\n",
      "['date']\n",
      "['result-link-bar-separator']\n",
      "['mat']\n",
      "['mat']\n",
      "['visually-hidden']\n",
      "['visually-hidden']\n",
      "['companyName']\n",
      "['iaIcon']\n",
      "['ialbl', 'iaTextBlack']\n",
      "['date']\n",
      "['result-link-bar-separator']\n",
      "['mat']\n",
      "['mat']\n",
      "['visually-hidden']\n",
      "['visually-hidden']\n",
      "['companyName']\n",
      "['ratingsDisplay', 'withRatingLink']\n",
      "['ratingNumber']\n",
      "['date']\n",
      "['result-link-bar-separator']\n",
      "['mat']\n",
      "['mat']\n",
      "['visually-hidden']\n",
      "['visually-hidden']\n",
      "['companyName']\n",
      "['remote-bullet']\n",
      "['iaIcon']\n",
      "['ialbl', 'iaTextBlack']\n",
      "['responsiveEmployerIcon']\n",
      "['date']\n",
      "['result-link-bar-separator']\n",
      "['mat']\n",
      "['mat']\n",
      "['visually-hidden']\n",
      "['visually-hidden']\n",
      "['label']\n",
      "['companyName']\n",
      "['ratingsDisplay', 'withRatingLink']\n",
      "['ratingNumber']\n",
      "['date']\n",
      "['result-link-bar-separator']\n",
      "['mat']\n",
      "['mat']\n",
      "['visually-hidden']\n",
      "['visually-hidden']\n",
      "['companyName']\n",
      "['ratingsDisplay', 'withRatingLink']\n",
      "['ratingNumber']\n",
      "['date']\n",
      "['result-link-bar-separator']\n",
      "['mat']\n",
      "['mat']\n",
      "['visually-hidden']\n",
      "['pn']\n",
      "['pn']\n",
      "['pn']\n",
      "['pn']\n",
      "['pn']\n",
      "['np']\n",
      "['ja_checkmark_ui']\n",
      "['indeed-serp-button']\n",
      "['indeed-serp-button-inner']\n",
      "['caption']\n"
     ]
    }
   ],
   "source": [
    "# Get all company names:\n",
    "tags = soup.find_all('span')\n",
    "# Collect info from the span tags\n",
    "collect_info = []\n",
    "for tag in tags:\n",
    "#     print(tag.attrs)\n",
    "    if \"class\" in tag.attrs.keys():\n",
    "        print(tag.attrs[\"class\"])\n",
    "        if tag.attrs[\"class\"] == [\"companyName\"]:\n",
    "            info = tag.text\n",
    "            collect_info.append(info)\n"
   ]
  },
  {
   "cell_type": "code",
   "execution_count": 38,
   "metadata": {},
   "outputs": [
    {
     "name": "stdout",
     "output_type": "stream",
     "text": [
      "['Revature', 'Northrop Grumman', 'UnitedHealth Group', 'Blue Sages', 'Revature', 'Pearson', 'Revature', 'Sovos Compliance', 'MyMeds', 'TARGET', 'Smart Data Solutions, LLC', 'PayPal', 'Codesynch', 'Amazon.com Services LLC', 'Abbott Laboratories']\n"
     ]
    }
   ],
   "source": [
    "print(collect_info)"
   ]
  },
  {
   "cell_type": "code",
   "execution_count": 40,
   "metadata": {},
   "outputs": [
    {
     "name": "stdout",
     "output_type": "stream",
     "text": [
      "['jobTitle', 'jobTitle-color-purple']\n",
      "['jobTitle', 'jobTitle-color-purple', 'jobTitle-newJob']\n",
      "['jobTitle', 'jobTitle-color-purple', 'jobTitle-newJob']\n",
      "['jobTitle', 'jobTitle-color-purple', 'jobTitle-newJob']\n",
      "['jobTitle', 'jobTitle-color-purple']\n",
      "['jobTitle', 'jobTitle-color-purple', 'jobTitle-newJob']\n",
      "['jobTitle', 'jobTitle-color-purple']\n",
      "['jobTitle', 'jobTitle-color-purple', 'jobTitle-newJob']\n",
      "['jobTitle', 'jobTitle-color-purple']\n",
      "['jobTitle', 'jobTitle-color-purple']\n",
      "['jobTitle', 'jobTitle-color-purple']\n",
      "['jobTitle', 'jobTitle-color-purple']\n",
      "['jobTitle', 'jobTitle-color-purple']\n",
      "['jobTitle', 'jobTitle-color-purple', 'jobTitle-newJob']\n",
      "['jobTitle', 'jobTitle-color-purple']\n"
     ]
    }
   ],
   "source": [
    "# Get all company names:\n",
    "tags = soup.find_all('h2')\n",
    "# Collect info from the span tags\n",
    "collect_info = []\n",
    "for tag in tags:\n",
    "#     print(tag.attrs)\n",
    "    if \"class\" in tag.attrs.keys():\n",
    "        print(tag.attrs[\"class\"])\n",
    "        if \"jobTitle\" in tag.attrs[\"class\"]:\n",
    "            info = tag.text\n",
    "            collect_info.append(info)\n"
   ]
  },
  {
   "cell_type": "code",
   "execution_count": 41,
   "metadata": {},
   "outputs": [
    {
     "name": "stdout",
     "output_type": "stream",
     "text": [
      "['Entry Level Software Engineer', 'newAssociate Embedded Software Engineer, PATHWAYS', 'newSoftware Engineer - Eden Prairie, MN or Telecommute', 'newSoftware Engineer', 'Entry Level Software Developer', 'newAssociate Software Engineer', 'Entry Level Computer Programmer', 'newSoftware Engineer (Entry-Level)', 'Software Engineer (Full Stack)', 'Technology Leadership Program (TLP) - Software Engineer', 'Software Developer', 'MTS 1, Software Engineer', 'Junior Software Engineer', 'newSoftware Development Engineer', 'Software Engineer I']\n"
     ]
    }
   ],
   "source": [
    "print(collect_info)"
   ]
  },
  {
   "cell_type": "code",
   "execution_count": null,
   "metadata": {},
   "outputs": [],
   "source": []
  },
  {
   "cell_type": "code",
   "execution_count": 42,
   "metadata": {},
   "outputs": [],
   "source": [
    "def createIndeedUrl(keyword, location):\n",
    "    base_url = \"indeed.com/jobs\"\n",
    "    "
   ]
  },
  {
   "cell_type": "code",
   "execution_count": null,
   "metadata": {},
   "outputs": [],
   "source": []
  }
 ],
 "metadata": {
  "kernelspec": {
   "display_name": "Python 3",
   "language": "python",
   "name": "python3"
  },
  "language_info": {
   "codemirror_mode": {
    "name": "ipython",
    "version": 3
   },
   "file_extension": ".py",
   "mimetype": "text/x-python",
   "name": "python",
   "nbconvert_exporter": "python",
   "pygments_lexer": "ipython3",
   "version": "3.8.5"
  }
 },
 "nbformat": 4,
 "nbformat_minor": 4
}
