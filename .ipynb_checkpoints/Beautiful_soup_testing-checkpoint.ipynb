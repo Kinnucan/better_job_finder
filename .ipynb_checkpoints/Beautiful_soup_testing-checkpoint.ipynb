{
 "cells": [
  {
   "cell_type": "code",
   "execution_count": 48,
   "metadata": {
    "scrolled": true
   },
   "outputs": [
    {
     "name": "stdout",
     "output_type": "stream",
     "text": [
      "Requirement already satisfied: beautifulsoup4 in /Library/Frameworks/Python.framework/Versions/3.8/lib/python3.8/site-packages (4.10.0)\n",
      "Requirement already satisfied: soupsieve>1.2 in /Library/Frameworks/Python.framework/Versions/3.8/lib/python3.8/site-packages (from beautifulsoup4) (2.3)\n",
      "\u001b[33mWARNING: You are using pip version 21.0.1; however, version 21.3.1 is available.\n",
      "You should consider upgrading via the '/Library/Frameworks/Python.framework/Versions/3.8/bin/python3.8 -m pip install --upgrade pip' command.\u001b[0m\n"
     ]
    }
   ],
   "source": [
    "import sys\n",
    "!{sys.executable} -m pip install beautifulsoup4\n",
    "from bs4 import BeautifulSoup"
   ]
  },
  {
   "cell_type": "code",
   "execution_count": 49,
   "metadata": {},
   "outputs": [],
   "source": [
    "import requests"
   ]
  },
  {
   "cell_type": "code",
   "execution_count": 5,
   "metadata": {},
   "outputs": [],
   "source": [
    "base_url = \"https://www.indeed.com/jobs?q=software%20engineer&l=Saint%20Paul%2C%20MN&vjk=d22e26283d8484f6\"\n",
    "r = requests.get(base_url)\n",
    "soup = BeautifulSoup(r.content, 'html.parser')"
   ]
  },
  {
   "cell_type": "code",
   "execution_count": 6,
   "metadata": {},
   "outputs": [
    {
     "name": "stdout",
     "output_type": "stream",
     "text": [
      "['gnav-header-85m0bu', 'esbq1260']\n",
      "['icl-TextInput-icon', 'iconRight']\n",
      "[]\n",
      "['icl-Autocomplete-ariaResultsAvailable']\n",
      "['icl-Autocomplete-ariaResultsAvailable']\n",
      "['icl-TextInput-icon', 'iconRight']\n",
      "[]\n",
      "['icl-Autocomplete-ariaResultsAvailable']\n",
      "['icl-Autocomplete-ariaResultsAvailable']\n",
      "['css-1syol37', 'esbq1260']\n",
      "['css-1syol37', 'esbq1260']\n",
      "['css-1syol37', 'esbq1260']\n",
      "['css-1syol37', 'esbq1260']\n",
      "['new-ico']\n",
      "['serp-filters-sort-by-label']\n",
      "['no-wrap']\n",
      "['visually-hidden']\n",
      "['label']\n",
      "['companyName']\n",
      "['iaIcon']\n",
      "['ialbl', 'iaTextBlack']\n",
      "['date']\n",
      "['visually-hidden']\n",
      "['visually-hidden']\n",
      "['companyName']\n",
      "['ratingsDisplay', 'withRatingLink']\n",
      "['ratingNumber']\n",
      "['more_loc_container']\n",
      "['date']\n",
      "['visually-hidden']\n",
      "['visually-hidden']\n",
      "['companyName']\n",
      "['ratingsDisplay', 'withRatingLink']\n",
      "['ratingNumber']\n",
      "['more_loc_container']\n",
      "['date']\n",
      "['visually-hidden']\n",
      "['visually-hidden']\n",
      "['companyName']\n",
      "['ratingsDisplay', 'withRatingLink']\n",
      "['ratingNumber']\n",
      "['more_loc_container']\n",
      "['date']\n",
      "['visually-hidden']\n",
      "['visually-hidden']\n",
      "['companyName']\n",
      "['more_loc_container']\n",
      "['iaIcon']\n",
      "['ialbl', 'iaTextBlack']\n",
      "['responsiveEmployerIcon']\n",
      "['date']\n",
      "['result-link-bar-separator']\n",
      "['mat']\n",
      "['mat']\n",
      "['visually-hidden']\n",
      "['visually-hidden']\n",
      "['companyName']\n",
      "['ratingsDisplay', 'withRatingLink']\n",
      "['ratingNumber']\n",
      "['more_loc_container']\n",
      "['date']\n",
      "['result-link-bar-separator']\n",
      "['mat']\n",
      "['mat']\n",
      "['mat']\n",
      "['visually-hidden']\n",
      "['visually-hidden']\n",
      "['label']\n",
      "['companyName']\n",
      "['iaIcon']\n",
      "['ialbl', 'iaTextBlack']\n",
      "['date']\n",
      "['result-link-bar-separator']\n",
      "['mat']\n",
      "['mat']\n",
      "['visually-hidden']\n",
      "['visually-hidden']\n",
      "['companyName']\n",
      "['remote-bullet']\n",
      "['iaIcon']\n",
      "['ialbl', 'iaTextBlack']\n",
      "['responsiveEmployerIcon']\n",
      "['date']\n",
      "['result-link-bar-separator']\n",
      "['mat']\n",
      "['mat']\n",
      "['visually-hidden']\n",
      "['visually-hidden']\n",
      "['companyName']\n",
      "['ratingsDisplay', 'withRatingLink']\n",
      "['ratingNumber']\n",
      "['more_loc_container']\n",
      "['date']\n",
      "['result-link-bar-separator']\n",
      "['mat']\n",
      "['mat']\n",
      "['mat']\n",
      "['visually-hidden']\n",
      "['visually-hidden']\n",
      "['companyName']\n",
      "['remote-bullet']\n",
      "['iaIcon']\n",
      "['ialbl', 'iaTextBlack']\n",
      "['responsiveEmployerIcon']\n",
      "['date']\n",
      "['result-link-bar-separator']\n",
      "['mat']\n",
      "['mat']\n",
      "['visually-hidden']\n",
      "['visually-hidden']\n",
      "['label']\n",
      "['companyName']\n",
      "['ratingsDisplay', 'withRatingLink']\n",
      "['ratingNumber']\n",
      "['date']\n",
      "['result-link-bar-separator']\n",
      "['mat']\n",
      "['mat']\n",
      "['mat']\n",
      "['visually-hidden']\n",
      "['visually-hidden']\n",
      "['companyName']\n",
      "['ratingsDisplay', 'withRatingLink']\n",
      "['ratingNumber']\n",
      "['more_loc_container']\n",
      "['date']\n",
      "['result-link-bar-separator']\n",
      "['mat']\n",
      "['mat']\n",
      "['mat']\n",
      "['visually-hidden']\n",
      "['visually-hidden']\n",
      "['companyName']\n",
      "['ratingsDisplay', 'withRatingLink']\n",
      "['ratingNumber']\n",
      "['more_loc_container']\n",
      "['date']\n",
      "['result-link-bar-separator']\n",
      "['mat']\n",
      "['mat']\n",
      "['mat']\n",
      "['visually-hidden']\n",
      "['visually-hidden']\n",
      "['companyName']\n",
      "['ratingsDisplay', 'withRatingLink']\n",
      "['ratingNumber']\n",
      "['date']\n",
      "['result-link-bar-separator']\n",
      "['mat']\n",
      "['mat']\n",
      "['mat']\n",
      "['visually-hidden']\n",
      "['visually-hidden']\n",
      "['label']\n",
      "['companyName']\n",
      "['companyLocation--extras']\n",
      "['more_loc_container']\n",
      "['remote-bullet']\n",
      "['date']\n",
      "['result-link-bar-separator']\n",
      "['mat']\n",
      "['mat']\n",
      "['visually-hidden']\n",
      "['pn']\n",
      "['pn']\n",
      "['pn']\n",
      "['pn']\n",
      "['pn']\n",
      "['np']\n",
      "['ja_checkmark_ui']\n",
      "['indeed-serp-button']\n",
      "['indeed-serp-button-inner']\n",
      "['caption']\n"
     ]
    }
   ],
   "source": [
    "# Get all company names:\n",
    "tags = soup.find_all('span')\n",
    "# Collect info from the span tags\n",
    "collect_info = []\n",
    "for tag in tags:\n",
    "#     print(tag.attrs)\n",
    "    if \"class\" in tag.attrs.keys():\n",
    "        print(tag.attrs[\"class\"])\n",
    "        if tag.attrs[\"class\"] == [\"companyName\"]:\n",
    "            info = tag.text\n",
    "            collect_info.append(info)\n"
   ]
  },
  {
   "cell_type": "code",
   "execution_count": 7,
   "metadata": {},
   "outputs": [
    {
     "name": "stdout",
     "output_type": "stream",
     "text": [
      "['fjorge', 'Revature', 'Revature', 'C.H Robinson', 'Blue Sages', 'Sovos Compliance', 'Smart Data Solutions, LLC', 'Omnia Fishing', 'PayPal', 'Codesynch', 'Abbott Laboratories', 'Amazon.com Services LLC', 'Abbott Laboratories', 'Unisys', 'Frontdoor']\n"
     ]
    }
   ],
   "source": [
    "print(collect_info)"
   ]
  },
  {
   "cell_type": "code",
   "execution_count": 8,
   "metadata": {},
   "outputs": [
    {
     "name": "stdout",
     "output_type": "stream",
     "text": [
      "['jobTitle', 'jobTitle-color-purple', 'jobTitle-newJob']\n",
      "['jobTitle', 'jobTitle-color-purple']\n",
      "['jobTitle', 'jobTitle-color-purple']\n",
      "['jobTitle', 'jobTitle-color-purple']\n",
      "['jobTitle', 'jobTitle-color-purple']\n",
      "['jobTitle', 'jobTitle-color-purple']\n",
      "['jobTitle', 'jobTitle-color-purple', 'jobTitle-newJob']\n",
      "['jobTitle', 'jobTitle-color-purple']\n",
      "['jobTitle', 'jobTitle-color-purple']\n",
      "['jobTitle', 'jobTitle-color-purple']\n",
      "['jobTitle', 'jobTitle-color-purple', 'jobTitle-newJob']\n",
      "['jobTitle', 'jobTitle-color-purple']\n",
      "['jobTitle', 'jobTitle-color-purple']\n",
      "['jobTitle', 'jobTitle-color-purple']\n",
      "['jobTitle', 'jobTitle-color-purple', 'jobTitle-newJob']\n"
     ]
    }
   ],
   "source": [
    "# Get all company names:\n",
    "tags = soup.find_all('h2')\n",
    "# Collect info from the span tags\n",
    "collect_info = []\n",
    "for tag in tags:\n",
    "#     print(tag.attrs)\n",
    "    if \"class\" in tag.attrs.keys():\n",
    "        print(tag.attrs[\"class\"])\n",
    "        if \"jobTitle\" in tag.attrs[\"class\"]:\n",
    "            info = tag.text\n",
    "            collect_info.append(info)\n"
   ]
  },
  {
   "cell_type": "code",
   "execution_count": 9,
   "metadata": {},
   "outputs": [
    {
     "name": "stdout",
     "output_type": "stream",
     "text": [
      "['newFront End CMS Developer (1 Year of Experience, No remote can...', 'Entry Level Software Engineer', 'Entry Level Computer Programmer', 'Software Engineer (June 2022 HatCHRy)', 'Software Engineer', 'Software Engineer (Entry-Level)', 'newSoftware Developer', 'Jr. Front End Developer', 'MTS 1, Software Engineer', 'Junior Software Engineer', 'newSoftware Verification Engineer I', 'Software Development Engineer', 'Software Engineer I', 'Software Engineer', 'newSoftware Engineer - 100% Remote']\n"
     ]
    }
   ],
   "source": [
    "print(collect_info)"
   ]
  },
  {
   "cell_type": "code",
   "execution_count": null,
   "metadata": {},
   "outputs": [],
   "source": []
  },
  {
   "cell_type": "code",
   "execution_count": 10,
   "metadata": {},
   "outputs": [],
   "source": [
    "def createIndeedUrl(keyword, location):\n",
    "    base_url = \"indeed.com/jobs\"\n",
    "    "
   ]
  },
  {
   "cell_type": "code",
   "execution_count": 11,
   "metadata": {},
   "outputs": [
    {
     "name": "stdout",
     "output_type": "stream",
     "text": [
      "Collecting selenium\n",
      "  Downloading selenium-4.0.0-py3-none-any.whl (954 kB)\n",
      "\u001b[K     |████████████████████████████████| 954 kB 3.4 MB/s eta 0:00:01\n",
      "\u001b[?25hCollecting trio-websocket~=0.9\n",
      "  Downloading trio_websocket-0.9.2-py3-none-any.whl (16 kB)\n",
      "Requirement already satisfied: urllib3[secure]~=1.26 in /Library/Frameworks/Python.framework/Versions/3.8/lib/python3.8/site-packages (from selenium) (1.26.2)\n",
      "Collecting trio~=0.17\n",
      "  Downloading trio-0.19.0-py3-none-any.whl (356 kB)\n",
      "\u001b[K     |████████████████████████████████| 356 kB 48.6 MB/s eta 0:00:01\n",
      "\u001b[?25hCollecting sortedcontainers\n",
      "  Downloading sortedcontainers-2.4.0-py2.py3-none-any.whl (29 kB)\n",
      "Requirement already satisfied: attrs>=19.2.0 in /Library/Frameworks/Python.framework/Versions/3.8/lib/python3.8/site-packages (from trio~=0.17->selenium) (20.3.0)\n",
      "Collecting sniffio\n",
      "  Downloading sniffio-1.2.0-py3-none-any.whl (10 kB)\n",
      "Collecting outcome\n",
      "  Downloading outcome-1.1.0-py2.py3-none-any.whl (9.7 kB)\n",
      "Requirement already satisfied: async-generator>=1.9 in /Library/Frameworks/Python.framework/Versions/3.8/lib/python3.8/site-packages (from trio~=0.17->selenium) (1.10)\n",
      "Requirement already satisfied: idna in /Library/Frameworks/Python.framework/Versions/3.8/lib/python3.8/site-packages (from trio~=0.17->selenium) (2.10)\n",
      "Collecting wsproto>=0.14\n",
      "  Downloading wsproto-1.0.0-py3-none-any.whl (24 kB)\n",
      "Requirement already satisfied: certifi in /Library/Frameworks/Python.framework/Versions/3.8/lib/python3.8/site-packages (from urllib3[secure]~=1.26->selenium) (2020.6.20)\n",
      "Collecting pyOpenSSL>=0.14\n",
      "  Downloading pyOpenSSL-21.0.0-py2.py3-none-any.whl (55 kB)\n",
      "\u001b[K     |████████████████████████████████| 55 kB 6.0 MB/s  eta 0:00:01\n",
      "\u001b[?25hCollecting cryptography>=1.3.4\n",
      "  Downloading cryptography-35.0.0-cp36-abi3-macosx_10_10_x86_64.whl (2.5 MB)\n",
      "\u001b[K     |████████████████████████████████| 2.5 MB 17.7 MB/s eta 0:00:01\n",
      "\u001b[?25hRequirement already satisfied: cffi>=1.12 in /Library/Frameworks/Python.framework/Versions/3.8/lib/python3.8/site-packages (from cryptography>=1.3.4->urllib3[secure]~=1.26->selenium) (1.14.4)\n",
      "Requirement already satisfied: pycparser in /Library/Frameworks/Python.framework/Versions/3.8/lib/python3.8/site-packages (from cffi>=1.12->cryptography>=1.3.4->urllib3[secure]~=1.26->selenium) (2.20)\n",
      "Requirement already satisfied: six>=1.5.2 in /Users/nadavskloot/Library/Python/3.8/lib/python/site-packages (from pyOpenSSL>=0.14->urllib3[secure]~=1.26->selenium) (1.15.0)\n",
      "Collecting h11<1,>=0.9.0\n",
      "  Downloading h11-0.12.0-py3-none-any.whl (54 kB)\n",
      "\u001b[K     |████████████████████████████████| 54 kB 6.2 MB/s  eta 0:00:01\n",
      "\u001b[?25hInstalling collected packages: sortedcontainers, sniffio, outcome, h11, cryptography, wsproto, trio, pyOpenSSL, trio-websocket, selenium\n",
      "Successfully installed cryptography-35.0.0 h11-0.12.0 outcome-1.1.0 pyOpenSSL-21.0.0 selenium-4.0.0 sniffio-1.2.0 sortedcontainers-2.4.0 trio-0.19.0 trio-websocket-0.9.2 wsproto-1.0.0\n",
      "\u001b[33mWARNING: You are using pip version 21.0.1; however, version 21.3.1 is available.\n",
      "You should consider upgrading via the '/Library/Frameworks/Python.framework/Versions/3.8/bin/python3.8 -m pip install --upgrade pip' command.\u001b[0m\n"
     ]
    }
   ],
   "source": [
    "!{sys.executable} -m pip install selenium\n",
    "import selenium"
   ]
  },
  {
   "cell_type": "code",
   "execution_count": 71,
   "metadata": {},
   "outputs": [
    {
     "name": "stderr",
     "output_type": "stream",
     "text": [
      "<ipython-input-71-25544da43e01>:5: DeprecationWarning: executable_path has been deprecated, please pass in a Service object\n",
      "  driver = webdriver.Chrome(\"/Users/nadavskloot/Documents/GitHub/comp446/better_job_finder/chromedriver\")\n"
     ]
    }
   ],
   "source": [
    "from selenium import webdriver\n",
    "from selenium.webdriver.common.keys import Keys\n",
    "from selenium.webdriver.common.by import By\n",
    "\n",
    "driver = webdriver.Chrome(\"/Users/nadavskloot/Documents/GitHub/comp446/better_job_finder/chromedriver\")\n",
    "driver.get(\"https://www.linkedin.com/jobs\")\n",
    "cookie = {'name': \"li_at\",'value':\"AQEDATiE-woDvY3iAAABfRYyfewAAAF9Oj8B7E4AySbBRJeEri4Uig-2B1hlS4dhO7btpUwcnJljINARdtGB6IUdmWiWhDxpSWc0P9rhH5wlCx_2ugoDz0lvQumpl-gOuHVp-7uBGeYDhEkwXVi9ETBn\"}\n",
    "driver.add_cookie(cookie)"
   ]
  },
  {
   "cell_type": "code",
   "execution_count": 72,
   "metadata": {},
   "outputs": [
    {
     "name": "stdout",
     "output_type": "stream",
     "text": [
      "<selenium.webdriver.remote.webelement.WebElement (session=\"3a648c78584239d2d62fcf8b64a24908\", element=\"120785d6-40d4-40e1-8951-17b44d08070c\")>\n"
     ]
    }
   ],
   "source": [
    "jobInput = driver.find_elements(By.NAME, \"keywords\")[0]\n",
    "jobLocation = driver.find_elements(By.NAME, \"location\")[0]\n",
    "\n",
    "print(jobInput)\n",
    "str(jobInput.is_displayed())\n",
    "jobInput.clear()\n",
    "jobInput.send_keys(\"hello\")\n",
    "jobLocation.clear()\n",
    "jobLocation.send_keys(\"hello\")\n",
    "\n",
    "jobInput.send_keys(Keys.RETURN);"
   ]
  },
  {
   "cell_type": "code",
   "execution_count": 50,
   "metadata": {},
   "outputs": [],
   "source": [
    "page_source = driver.page_source\n",
    "soup = BeautifulSoup(page_source, 'html.parser')"
   ]
  },
  {
   "cell_type": "code",
   "execution_count": 73,
   "metadata": {},
   "outputs": [
    {
     "data": {
      "text/plain": [
       "[<a class=\"disabled ember-view job-card-container__link job-card-list__title\" data-control-id=\"oOZNYbzF6aigkSWy9cW9Uw==\" href=\"/jobs/view/2758159240/?eBP=JOB_SEARCH_ORGANIC&amp;recommendedFlavor=ACTIVELY_HIRING_COMPANY&amp;refId=k9UflwZp3rOZqhOpXUQmaA%3D%3D&amp;trackingId=oOZNYbzF6aigkSWy9cW9Uw%3D%3D&amp;trk=flagship3_search_srp_jobs\" id=\"ember219\" tabindex=\"0\">\n",
       "             Online Marketing Lead\n",
       "           </a>,\n",
       " <a class=\"disabled ember-view job-card-container__link job-card-list__title\" data-control-id=\"6y5+usJkFGWQOQvtQIu3JQ==\" href=\"/jobs/view/2758158885/?eBP=JOB_SEARCH_ORGANIC&amp;recommendedFlavor=ACTIVELY_HIRING_COMPANY&amp;refId=k9UflwZp3rOZqhOpXUQmaA%3D%3D&amp;trackingId=6y5%2BusJkFGWQOQvtQIu3JQ%3D%3D&amp;trk=flagship3_search_srp_jobs\" id=\"ember231\" tabindex=\"0\">\n",
       "             Senior Product Manager - Buyer Experience\n",
       "           </a>,\n",
       " <a class=\"disabled ember-view job-card-container__link job-card-list__title\" data-control-id=\"qUgXFVMGAsIuUBUb8/U/JQ==\" href=\"/jobs/view/2767806946/?eBP=JOB_SEARCH_ORGANIC&amp;recommendedFlavor=ACTIVELY_HIRING_COMPANY&amp;refId=k9UflwZp3rOZqhOpXUQmaA%3D%3D&amp;trackingId=qUgXFVMGAsIuUBUb8%2FU%2FJQ%3D%3D&amp;trk=flagship3_search_srp_jobs\" id=\"ember243\" tabindex=\"0\">\n",
       "             Software Quality Assurance Engineer\n",
       "           </a>,\n",
       " <a class=\"disabled ember-view job-card-container__link job-card-list__title\" data-control-id=\"Er4XXV7Il1hXriMUMorUIA==\" href=\"/jobs/view/2758166442/?eBP=JOB_SEARCH_ORGANIC&amp;recommendedFlavor=ACTIVELY_HIRING_COMPANY&amp;refId=k9UflwZp3rOZqhOpXUQmaA%3D%3D&amp;trackingId=Er4XXV7Il1hXriMUMorUIA%3D%3D&amp;trk=flagship3_search_srp_jobs\" id=\"ember255\" tabindex=\"0\">\n",
       "             Senior Product Designer\n",
       "           </a>,\n",
       " <a class=\"disabled ember-view job-card-container__link job-card-list__title\" data-control-id=\"BUs1l5pLjZdvl8ygAdKjAA==\" href=\"/jobs/view/2758146864/?eBP=JOB_SEARCH_ORGANIC&amp;recommendedFlavor=ACTIVELY_HIRING_COMPANY&amp;refId=k9UflwZp3rOZqhOpXUQmaA%3D%3D&amp;trackingId=BUs1l5pLjZdvl8ygAdKjAA%3D%3D&amp;trk=flagship3_search_srp_jobs\" id=\"ember267\" tabindex=\"0\">\n",
       "             Senior Software Engineer (Backend)\n",
       "           </a>,\n",
       " <a class=\"disabled ember-view job-card-container__link job-card-list__title\" data-control-id=\"ZQb6BqBEeFLa2WhBwgLN7Q==\" href=\"/jobs/view/2758151645/?eBP=JOB_SEARCH_ORGANIC&amp;recommendedFlavor=ACTIVELY_HIRING_COMPANY&amp;refId=k9UflwZp3rOZqhOpXUQmaA%3D%3D&amp;trackingId=ZQb6BqBEeFLa2WhBwgLN7Q%3D%3D&amp;trk=flagship3_search_srp_jobs\" id=\"ember279\" tabindex=\"0\">\n",
       "             Lead Software Engineer (Backend)\n",
       "           </a>]"
      ]
     },
     "execution_count": 73,
     "metadata": {},
     "output_type": "execute_result"
    }
   ],
   "source": [
    "import re\n",
    "def emberID(tag):\n",
    "    if tag.has_attr(id):\n",
    "        return tag.attr[\"id\"][0] == \"e\"\n",
    "    else:\n",
    "        return False\n",
    "\n",
    "# soup.find_all(\"a\", id = re.compile(\"^ember\"), href= re.compile(\"^/jobs/view\"), attrs={'class': re.compile(\"job-card-list__title\")})\n",
    "soup.find_all(\"a\", id = re.compile(\"^ember\"), href= re.compile(\"^/jobs/view\"), attrs={'class': re.compile(\"job-card-list__title\")})\n"
   ]
  },
  {
   "cell_type": "code",
   "execution_count": null,
   "metadata": {},
   "outputs": [],
   "source": []
  },
  {
   "cell_type": "code",
   "execution_count": null,
   "metadata": {},
   "outputs": [],
   "source": []
  },
  {
   "cell_type": "code",
   "execution_count": 5,
   "metadata": {},
   "outputs": [
    {
     "ename": "NoSuchWindowException",
     "evalue": "Message: no such window: window was already closed\n  (Session info: chrome=95.0.4638.69)\nStacktrace:\n0   chromedriver                        0x0000000100feb519 __gxx_personality_v0 + 577193\n1   chromedriver                        0x0000000100f77663 __gxx_personality_v0 + 102387\n2   chromedriver                        0x0000000100b3ed28 chromedriver + 171304\n3   chromedriver                        0x0000000100b2eb31 chromedriver + 105265\n4   chromedriver                        0x0000000100b2fed2 chromedriver + 110290\n5   chromedriver                        0x0000000100b28c92 chromedriver + 81042\n6   chromedriver                        0x0000000100b401b3 chromedriver + 176563\n7   chromedriver                        0x0000000100ba2f5c chromedriver + 581468\n8   chromedriver                        0x0000000100b910a3 chromedriver + 508067\n9   chromedriver                        0x0000000100b675ae chromedriver + 337326\n10  chromedriver                        0x0000000100b688d5 chromedriver + 342229\n11  chromedriver                        0x0000000100fa775f __gxx_personality_v0 + 299247\n12  chromedriver                        0x0000000100fbe69a __gxx_personality_v0 + 393258\n13  chromedriver                        0x0000000100fc3f5b __gxx_personality_v0 + 415979\n14  chromedriver                        0x0000000100fbfa3a __gxx_personality_v0 + 398282\n15  chromedriver                        0x0000000100f9c37c __gxx_personality_v0 + 253196\n16  chromedriver                        0x0000000100fdb458 __gxx_personality_v0 + 511464\n17  chromedriver                        0x0000000100fdb5e1 __gxx_personality_v0 + 511857\n18  chromedriver                        0x0000000100ff2968 __gxx_personality_v0 + 606968\n19  libsystem_pthread.dylib             0x00007fff6fca3109 _pthread_start + 148\n20  libsystem_pthread.dylib             0x00007fff6fc9eb8b thread_start + 15\n",
     "output_type": "error",
     "traceback": [
      "\u001b[0;31m---------------------------------------------------------------------------\u001b[0m",
      "\u001b[0;31mNoSuchWindowException\u001b[0m                     Traceback (most recent call last)",
      "\u001b[0;32m<ipython-input-5-9fe044e0e750>\u001b[0m in \u001b[0;36m<module>\u001b[0;34m\u001b[0m\n\u001b[0;32m----> 1\u001b[0;31m \u001b[0musername\u001b[0m \u001b[0;34m=\u001b[0m \u001b[0mdriver\u001b[0m\u001b[0;34m.\u001b[0m\u001b[0mfind_elements\u001b[0m\u001b[0;34m(\u001b[0m\u001b[0mBy\u001b[0m\u001b[0;34m.\u001b[0m\u001b[0mNAME\u001b[0m\u001b[0;34m,\u001b[0m \u001b[0;34m\"session_key\"\u001b[0m\u001b[0;34m)\u001b[0m\u001b[0;34m[\u001b[0m\u001b[0;36m0\u001b[0m\u001b[0;34m]\u001b[0m\u001b[0;34m\u001b[0m\u001b[0;34m\u001b[0m\u001b[0m\n\u001b[0m\u001b[1;32m      2\u001b[0m \u001b[0mpassword\u001b[0m \u001b[0;34m=\u001b[0m \u001b[0mdriver\u001b[0m\u001b[0;34m.\u001b[0m\u001b[0mfind_elements\u001b[0m\u001b[0;34m(\u001b[0m\u001b[0mBy\u001b[0m\u001b[0;34m.\u001b[0m\u001b[0mNAME\u001b[0m\u001b[0;34m,\u001b[0m \u001b[0;34m\"session_password\"\u001b[0m\u001b[0;34m)\u001b[0m\u001b[0;34m[\u001b[0m\u001b[0;36m0\u001b[0m\u001b[0;34m]\u001b[0m\u001b[0;34m\u001b[0m\u001b[0;34m\u001b[0m\u001b[0m\n\u001b[1;32m      3\u001b[0m \u001b[0mloginButton\u001b[0m \u001b[0;34m=\u001b[0m \u001b[0mdriver\u001b[0m\u001b[0;34m.\u001b[0m\u001b[0mfind_elements\u001b[0m\u001b[0;34m(\u001b[0m\u001b[0mBy\u001b[0m\u001b[0;34m.\u001b[0m\u001b[0mNAME\u001b[0m\u001b[0;34m,\u001b[0m \u001b[0;34m\"homepage-basic_signin-form_submit-button\"\u001b[0m\u001b[0;34m)\u001b[0m\u001b[0;34m[\u001b[0m\u001b[0;36m0\u001b[0m\u001b[0;34m]\u001b[0m\u001b[0;34m\u001b[0m\u001b[0;34m\u001b[0m\u001b[0m\n",
      "\u001b[0;32m/Library/Frameworks/Python.framework/Versions/3.8/lib/python3.8/site-packages/selenium/webdriver/remote/webdriver.py\u001b[0m in \u001b[0;36mfind_elements\u001b[0;34m(self, by, value)\u001b[0m\n\u001b[1;32m   1271\u001b[0m         \u001b[0;31m# Return empty list if driver returns null\u001b[0m\u001b[0;34m\u001b[0m\u001b[0;34m\u001b[0m\u001b[0;34m\u001b[0m\u001b[0m\n\u001b[1;32m   1272\u001b[0m         \u001b[0;31m# See https://github.com/SeleniumHQ/selenium/issues/4555\u001b[0m\u001b[0;34m\u001b[0m\u001b[0;34m\u001b[0m\u001b[0;34m\u001b[0m\u001b[0m\n\u001b[0;32m-> 1273\u001b[0;31m         return self.execute(Command.FIND_ELEMENTS, {\n\u001b[0m\u001b[1;32m   1274\u001b[0m             \u001b[0;34m'using'\u001b[0m\u001b[0;34m:\u001b[0m \u001b[0mby\u001b[0m\u001b[0;34m,\u001b[0m\u001b[0;34m\u001b[0m\u001b[0;34m\u001b[0m\u001b[0m\n\u001b[1;32m   1275\u001b[0m             'value': value})['value'] or []\n",
      "\u001b[0;32m/Library/Frameworks/Python.framework/Versions/3.8/lib/python3.8/site-packages/selenium/webdriver/remote/webdriver.py\u001b[0m in \u001b[0;36mexecute\u001b[0;34m(self, driver_command, params)\u001b[0m\n\u001b[1;32m    416\u001b[0m         \u001b[0mresponse\u001b[0m \u001b[0;34m=\u001b[0m \u001b[0mself\u001b[0m\u001b[0;34m.\u001b[0m\u001b[0mcommand_executor\u001b[0m\u001b[0;34m.\u001b[0m\u001b[0mexecute\u001b[0m\u001b[0;34m(\u001b[0m\u001b[0mdriver_command\u001b[0m\u001b[0;34m,\u001b[0m \u001b[0mparams\u001b[0m\u001b[0;34m)\u001b[0m\u001b[0;34m\u001b[0m\u001b[0;34m\u001b[0m\u001b[0m\n\u001b[1;32m    417\u001b[0m         \u001b[0;32mif\u001b[0m \u001b[0mresponse\u001b[0m\u001b[0;34m:\u001b[0m\u001b[0;34m\u001b[0m\u001b[0;34m\u001b[0m\u001b[0m\n\u001b[0;32m--> 418\u001b[0;31m             \u001b[0mself\u001b[0m\u001b[0;34m.\u001b[0m\u001b[0merror_handler\u001b[0m\u001b[0;34m.\u001b[0m\u001b[0mcheck_response\u001b[0m\u001b[0;34m(\u001b[0m\u001b[0mresponse\u001b[0m\u001b[0;34m)\u001b[0m\u001b[0;34m\u001b[0m\u001b[0;34m\u001b[0m\u001b[0m\n\u001b[0m\u001b[1;32m    419\u001b[0m             response['value'] = self._unwrap_value(\n\u001b[1;32m    420\u001b[0m                 response.get('value', None))\n",
      "\u001b[0;32m/Library/Frameworks/Python.framework/Versions/3.8/lib/python3.8/site-packages/selenium/webdriver/remote/errorhandler.py\u001b[0m in \u001b[0;36mcheck_response\u001b[0;34m(self, response)\u001b[0m\n\u001b[1;32m    241\u001b[0m                 \u001b[0malert_text\u001b[0m \u001b[0;34m=\u001b[0m \u001b[0mvalue\u001b[0m\u001b[0;34m[\u001b[0m\u001b[0;34m'alert'\u001b[0m\u001b[0;34m]\u001b[0m\u001b[0;34m.\u001b[0m\u001b[0mget\u001b[0m\u001b[0;34m(\u001b[0m\u001b[0;34m'text'\u001b[0m\u001b[0;34m)\u001b[0m\u001b[0;34m\u001b[0m\u001b[0;34m\u001b[0m\u001b[0m\n\u001b[1;32m    242\u001b[0m             \u001b[0;32mraise\u001b[0m \u001b[0mexception_class\u001b[0m\u001b[0;34m(\u001b[0m\u001b[0mmessage\u001b[0m\u001b[0;34m,\u001b[0m \u001b[0mscreen\u001b[0m\u001b[0;34m,\u001b[0m \u001b[0mstacktrace\u001b[0m\u001b[0;34m,\u001b[0m \u001b[0malert_text\u001b[0m\u001b[0;34m)\u001b[0m  \u001b[0;31m# type: ignore[call-arg]  # mypy is not smart enough here\u001b[0m\u001b[0;34m\u001b[0m\u001b[0;34m\u001b[0m\u001b[0m\n\u001b[0;32m--> 243\u001b[0;31m         \u001b[0;32mraise\u001b[0m \u001b[0mexception_class\u001b[0m\u001b[0;34m(\u001b[0m\u001b[0mmessage\u001b[0m\u001b[0;34m,\u001b[0m \u001b[0mscreen\u001b[0m\u001b[0;34m,\u001b[0m \u001b[0mstacktrace\u001b[0m\u001b[0;34m)\u001b[0m\u001b[0;34m\u001b[0m\u001b[0;34m\u001b[0m\u001b[0m\n\u001b[0m\u001b[1;32m    244\u001b[0m \u001b[0;34m\u001b[0m\u001b[0m\n\u001b[1;32m    245\u001b[0m     \u001b[0;32mdef\u001b[0m \u001b[0m_value_or_default\u001b[0m\u001b[0;34m(\u001b[0m\u001b[0mself\u001b[0m\u001b[0;34m,\u001b[0m \u001b[0mobj\u001b[0m\u001b[0;34m:\u001b[0m \u001b[0mMapping\u001b[0m\u001b[0;34m[\u001b[0m\u001b[0m_KT\u001b[0m\u001b[0;34m,\u001b[0m \u001b[0m_VT\u001b[0m\u001b[0;34m]\u001b[0m\u001b[0;34m,\u001b[0m \u001b[0mkey\u001b[0m\u001b[0;34m:\u001b[0m \u001b[0m_KT\u001b[0m\u001b[0;34m,\u001b[0m \u001b[0mdefault\u001b[0m\u001b[0;34m:\u001b[0m \u001b[0m_VT\u001b[0m\u001b[0;34m)\u001b[0m \u001b[0;34m->\u001b[0m \u001b[0m_VT\u001b[0m\u001b[0;34m:\u001b[0m\u001b[0;34m\u001b[0m\u001b[0;34m\u001b[0m\u001b[0m\n",
      "\u001b[0;31mNoSuchWindowException\u001b[0m: Message: no such window: window was already closed\n  (Session info: chrome=95.0.4638.69)\nStacktrace:\n0   chromedriver                        0x0000000100feb519 __gxx_personality_v0 + 577193\n1   chromedriver                        0x0000000100f77663 __gxx_personality_v0 + 102387\n2   chromedriver                        0x0000000100b3ed28 chromedriver + 171304\n3   chromedriver                        0x0000000100b2eb31 chromedriver + 105265\n4   chromedriver                        0x0000000100b2fed2 chromedriver + 110290\n5   chromedriver                        0x0000000100b28c92 chromedriver + 81042\n6   chromedriver                        0x0000000100b401b3 chromedriver + 176563\n7   chromedriver                        0x0000000100ba2f5c chromedriver + 581468\n8   chromedriver                        0x0000000100b910a3 chromedriver + 508067\n9   chromedriver                        0x0000000100b675ae chromedriver + 337326\n10  chromedriver                        0x0000000100b688d5 chromedriver + 342229\n11  chromedriver                        0x0000000100fa775f __gxx_personality_v0 + 299247\n12  chromedriver                        0x0000000100fbe69a __gxx_personality_v0 + 393258\n13  chromedriver                        0x0000000100fc3f5b __gxx_personality_v0 + 415979\n14  chromedriver                        0x0000000100fbfa3a __gxx_personality_v0 + 398282\n15  chromedriver                        0x0000000100f9c37c __gxx_personality_v0 + 253196\n16  chromedriver                        0x0000000100fdb458 __gxx_personality_v0 + 511464\n17  chromedriver                        0x0000000100fdb5e1 __gxx_personality_v0 + 511857\n18  chromedriver                        0x0000000100ff2968 __gxx_personality_v0 + 606968\n19  libsystem_pthread.dylib             0x00007fff6fca3109 _pthread_start + 148\n20  libsystem_pthread.dylib             0x00007fff6fc9eb8b thread_start + 15\n"
     ]
    }
   ],
   "source": [
    "username = driver.find_elements(By.NAME, \"session_key\")[0]\n",
    "password = driver.find_elements(By.NAME, \"session_password\")[0]\n",
    "loginButton = driver.find_elements(By.NAME, \"homepage-basic_signin-form_submit-button\")[0]"
   ]
  },
  {
   "cell_type": "code",
   "execution_count": 64,
   "metadata": {},
   "outputs": [
    {
     "ename": "NoSuchWindowException",
     "evalue": "Message: no such window: window was already closed\n  (Session info: chrome=95.0.4638.69)\nStacktrace:\n0   chromedriver                        0x000000010eb2f519 __gxx_personality_v0 + 577193\n1   chromedriver                        0x000000010eabb663 __gxx_personality_v0 + 102387\n2   chromedriver                        0x000000010e682d28 chromedriver + 171304\n3   chromedriver                        0x000000010e672b31 chromedriver + 105265\n4   chromedriver                        0x000000010e673ed2 chromedriver + 110290\n5   chromedriver                        0x000000010e66cc92 chromedriver + 81042\n6   chromedriver                        0x000000010e6841b3 chromedriver + 176563\n7   chromedriver                        0x000000010e6e6f5c chromedriver + 581468\n8   chromedriver                        0x000000010e6d50a3 chromedriver + 508067\n9   chromedriver                        0x000000010e6ab5ae chromedriver + 337326\n10  chromedriver                        0x000000010e6ac8d5 chromedriver + 342229\n11  chromedriver                        0x000000010eaeb75f __gxx_personality_v0 + 299247\n12  chromedriver                        0x000000010eb0269a __gxx_personality_v0 + 393258\n13  chromedriver                        0x000000010eb07f5b __gxx_personality_v0 + 415979\n14  chromedriver                        0x000000010eb03a3a __gxx_personality_v0 + 398282\n15  chromedriver                        0x000000010eae037c __gxx_personality_v0 + 253196\n16  chromedriver                        0x000000010eb1f458 __gxx_personality_v0 + 511464\n17  chromedriver                        0x000000010eb1f5e1 __gxx_personality_v0 + 511857\n18  chromedriver                        0x000000010eb36968 __gxx_personality_v0 + 606968\n19  libsystem_pthread.dylib             0x00007fff6c982109 _pthread_start + 148\n20  libsystem_pthread.dylib             0x00007fff6c97db8b thread_start + 15\n",
     "output_type": "error",
     "traceback": [
      "\u001b[0;31m---------------------------------------------------------------------------\u001b[0m",
      "\u001b[0;31mNoSuchWindowException\u001b[0m                     Traceback (most recent call last)",
      "\u001b[0;32m<ipython-input-64-97725f98fb79>\u001b[0m in \u001b[0;36m<module>\u001b[0;34m\u001b[0m\n\u001b[0;32m----> 1\u001b[0;31m \u001b[0musername\u001b[0m\u001b[0;34m.\u001b[0m\u001b[0msend_keys\u001b[0m\u001b[0;34m(\u001b[0m\u001b[0;34m\"vlnfmhtrepmgktaees@sdvgeft.com\"\u001b[0m\u001b[0;34m)\u001b[0m\u001b[0;34m\u001b[0m\u001b[0;34m\u001b[0m\u001b[0m\n\u001b[0m\u001b[1;32m      2\u001b[0m \u001b[0mpassword\u001b[0m\u001b[0;34m.\u001b[0m\u001b[0msend_keys\u001b[0m\u001b[0;34m(\u001b[0m\u001b[0;34m\"hebedebe\"\u001b[0m\u001b[0;34m)\u001b[0m\u001b[0;34m\u001b[0m\u001b[0;34m\u001b[0m\u001b[0m\n\u001b[1;32m      3\u001b[0m \u001b[0mloginButton\u001b[0m\u001b[0;34m.\u001b[0m\u001b[0msubmit\u001b[0m\u001b[0;34m(\u001b[0m\u001b[0;34m)\u001b[0m\u001b[0;34m\u001b[0m\u001b[0;34m\u001b[0m\u001b[0m\n",
      "\u001b[0;32m/Library/Frameworks/Python.framework/Versions/3.8/lib/python3.8/site-packages/selenium/webdriver/remote/webelement.py\u001b[0m in \u001b[0;36msend_keys\u001b[0;34m(self, *value)\u001b[0m\n\u001b[1;32m    537\u001b[0m                 \u001b[0mvalue\u001b[0m \u001b[0;34m=\u001b[0m \u001b[0;34m'\\n'\u001b[0m\u001b[0;34m.\u001b[0m\u001b[0mjoin\u001b[0m\u001b[0;34m(\u001b[0m\u001b[0mremote_files\u001b[0m\u001b[0;34m)\u001b[0m\u001b[0;34m\u001b[0m\u001b[0;34m\u001b[0m\u001b[0m\n\u001b[1;32m    538\u001b[0m \u001b[0;34m\u001b[0m\u001b[0m\n\u001b[0;32m--> 539\u001b[0;31m         self._execute(Command.SEND_KEYS_TO_ELEMENT,\n\u001b[0m\u001b[1;32m    540\u001b[0m                       {'text': \"\".join(keys_to_typing(value)),\n\u001b[1;32m    541\u001b[0m                        'value': keys_to_typing(value)})\n",
      "\u001b[0;32m/Library/Frameworks/Python.framework/Versions/3.8/lib/python3.8/site-packages/selenium/webdriver/remote/webelement.py\u001b[0m in \u001b[0;36m_execute\u001b[0;34m(self, command, params)\u001b[0m\n\u001b[1;32m    691\u001b[0m             \u001b[0mparams\u001b[0m \u001b[0;34m=\u001b[0m \u001b[0;34m{\u001b[0m\u001b[0;34m}\u001b[0m\u001b[0;34m\u001b[0m\u001b[0;34m\u001b[0m\u001b[0m\n\u001b[1;32m    692\u001b[0m         \u001b[0mparams\u001b[0m\u001b[0;34m[\u001b[0m\u001b[0;34m'id'\u001b[0m\u001b[0;34m]\u001b[0m \u001b[0;34m=\u001b[0m \u001b[0mself\u001b[0m\u001b[0;34m.\u001b[0m\u001b[0m_id\u001b[0m\u001b[0;34m\u001b[0m\u001b[0;34m\u001b[0m\u001b[0m\n\u001b[0;32m--> 693\u001b[0;31m         \u001b[0;32mreturn\u001b[0m \u001b[0mself\u001b[0m\u001b[0;34m.\u001b[0m\u001b[0m_parent\u001b[0m\u001b[0;34m.\u001b[0m\u001b[0mexecute\u001b[0m\u001b[0;34m(\u001b[0m\u001b[0mcommand\u001b[0m\u001b[0;34m,\u001b[0m \u001b[0mparams\u001b[0m\u001b[0;34m)\u001b[0m\u001b[0;34m\u001b[0m\u001b[0;34m\u001b[0m\u001b[0m\n\u001b[0m\u001b[1;32m    694\u001b[0m \u001b[0;34m\u001b[0m\u001b[0m\n\u001b[1;32m    695\u001b[0m     \u001b[0;32mdef\u001b[0m \u001b[0mfind_element\u001b[0m\u001b[0;34m(\u001b[0m\u001b[0mself\u001b[0m\u001b[0;34m,\u001b[0m \u001b[0mby\u001b[0m\u001b[0;34m=\u001b[0m\u001b[0mBy\u001b[0m\u001b[0;34m.\u001b[0m\u001b[0mID\u001b[0m\u001b[0;34m,\u001b[0m \u001b[0mvalue\u001b[0m\u001b[0;34m=\u001b[0m\u001b[0;32mNone\u001b[0m\u001b[0;34m)\u001b[0m\u001b[0;34m:\u001b[0m\u001b[0;34m\u001b[0m\u001b[0;34m\u001b[0m\u001b[0m\n",
      "\u001b[0;32m/Library/Frameworks/Python.framework/Versions/3.8/lib/python3.8/site-packages/selenium/webdriver/remote/webdriver.py\u001b[0m in \u001b[0;36mexecute\u001b[0;34m(self, driver_command, params)\u001b[0m\n\u001b[1;32m    416\u001b[0m         \u001b[0mresponse\u001b[0m \u001b[0;34m=\u001b[0m \u001b[0mself\u001b[0m\u001b[0;34m.\u001b[0m\u001b[0mcommand_executor\u001b[0m\u001b[0;34m.\u001b[0m\u001b[0mexecute\u001b[0m\u001b[0;34m(\u001b[0m\u001b[0mdriver_command\u001b[0m\u001b[0;34m,\u001b[0m \u001b[0mparams\u001b[0m\u001b[0;34m)\u001b[0m\u001b[0;34m\u001b[0m\u001b[0;34m\u001b[0m\u001b[0m\n\u001b[1;32m    417\u001b[0m         \u001b[0;32mif\u001b[0m \u001b[0mresponse\u001b[0m\u001b[0;34m:\u001b[0m\u001b[0;34m\u001b[0m\u001b[0;34m\u001b[0m\u001b[0m\n\u001b[0;32m--> 418\u001b[0;31m             \u001b[0mself\u001b[0m\u001b[0;34m.\u001b[0m\u001b[0merror_handler\u001b[0m\u001b[0;34m.\u001b[0m\u001b[0mcheck_response\u001b[0m\u001b[0;34m(\u001b[0m\u001b[0mresponse\u001b[0m\u001b[0;34m)\u001b[0m\u001b[0;34m\u001b[0m\u001b[0;34m\u001b[0m\u001b[0m\n\u001b[0m\u001b[1;32m    419\u001b[0m             response['value'] = self._unwrap_value(\n\u001b[1;32m    420\u001b[0m                 response.get('value', None))\n",
      "\u001b[0;32m/Library/Frameworks/Python.framework/Versions/3.8/lib/python3.8/site-packages/selenium/webdriver/remote/errorhandler.py\u001b[0m in \u001b[0;36mcheck_response\u001b[0;34m(self, response)\u001b[0m\n\u001b[1;32m    241\u001b[0m                 \u001b[0malert_text\u001b[0m \u001b[0;34m=\u001b[0m \u001b[0mvalue\u001b[0m\u001b[0;34m[\u001b[0m\u001b[0;34m'alert'\u001b[0m\u001b[0;34m]\u001b[0m\u001b[0;34m.\u001b[0m\u001b[0mget\u001b[0m\u001b[0;34m(\u001b[0m\u001b[0;34m'text'\u001b[0m\u001b[0;34m)\u001b[0m\u001b[0;34m\u001b[0m\u001b[0;34m\u001b[0m\u001b[0m\n\u001b[1;32m    242\u001b[0m             \u001b[0;32mraise\u001b[0m \u001b[0mexception_class\u001b[0m\u001b[0;34m(\u001b[0m\u001b[0mmessage\u001b[0m\u001b[0;34m,\u001b[0m \u001b[0mscreen\u001b[0m\u001b[0;34m,\u001b[0m \u001b[0mstacktrace\u001b[0m\u001b[0;34m,\u001b[0m \u001b[0malert_text\u001b[0m\u001b[0;34m)\u001b[0m  \u001b[0;31m# type: ignore[call-arg]  # mypy is not smart enough here\u001b[0m\u001b[0;34m\u001b[0m\u001b[0;34m\u001b[0m\u001b[0m\n\u001b[0;32m--> 243\u001b[0;31m         \u001b[0;32mraise\u001b[0m \u001b[0mexception_class\u001b[0m\u001b[0;34m(\u001b[0m\u001b[0mmessage\u001b[0m\u001b[0;34m,\u001b[0m \u001b[0mscreen\u001b[0m\u001b[0;34m,\u001b[0m \u001b[0mstacktrace\u001b[0m\u001b[0;34m)\u001b[0m\u001b[0;34m\u001b[0m\u001b[0;34m\u001b[0m\u001b[0m\n\u001b[0m\u001b[1;32m    244\u001b[0m \u001b[0;34m\u001b[0m\u001b[0m\n\u001b[1;32m    245\u001b[0m     \u001b[0;32mdef\u001b[0m \u001b[0m_value_or_default\u001b[0m\u001b[0;34m(\u001b[0m\u001b[0mself\u001b[0m\u001b[0;34m,\u001b[0m \u001b[0mobj\u001b[0m\u001b[0;34m:\u001b[0m \u001b[0mMapping\u001b[0m\u001b[0;34m[\u001b[0m\u001b[0m_KT\u001b[0m\u001b[0;34m,\u001b[0m \u001b[0m_VT\u001b[0m\u001b[0;34m]\u001b[0m\u001b[0;34m,\u001b[0m \u001b[0mkey\u001b[0m\u001b[0;34m:\u001b[0m \u001b[0m_KT\u001b[0m\u001b[0;34m,\u001b[0m \u001b[0mdefault\u001b[0m\u001b[0;34m:\u001b[0m \u001b[0m_VT\u001b[0m\u001b[0;34m)\u001b[0m \u001b[0;34m->\u001b[0m \u001b[0m_VT\u001b[0m\u001b[0;34m:\u001b[0m\u001b[0;34m\u001b[0m\u001b[0;34m\u001b[0m\u001b[0m\n",
      "\u001b[0;31mNoSuchWindowException\u001b[0m: Message: no such window: window was already closed\n  (Session info: chrome=95.0.4638.69)\nStacktrace:\n0   chromedriver                        0x000000010eb2f519 __gxx_personality_v0 + 577193\n1   chromedriver                        0x000000010eabb663 __gxx_personality_v0 + 102387\n2   chromedriver                        0x000000010e682d28 chromedriver + 171304\n3   chromedriver                        0x000000010e672b31 chromedriver + 105265\n4   chromedriver                        0x000000010e673ed2 chromedriver + 110290\n5   chromedriver                        0x000000010e66cc92 chromedriver + 81042\n6   chromedriver                        0x000000010e6841b3 chromedriver + 176563\n7   chromedriver                        0x000000010e6e6f5c chromedriver + 581468\n8   chromedriver                        0x000000010e6d50a3 chromedriver + 508067\n9   chromedriver                        0x000000010e6ab5ae chromedriver + 337326\n10  chromedriver                        0x000000010e6ac8d5 chromedriver + 342229\n11  chromedriver                        0x000000010eaeb75f __gxx_personality_v0 + 299247\n12  chromedriver                        0x000000010eb0269a __gxx_personality_v0 + 393258\n13  chromedriver                        0x000000010eb07f5b __gxx_personality_v0 + 415979\n14  chromedriver                        0x000000010eb03a3a __gxx_personality_v0 + 398282\n15  chromedriver                        0x000000010eae037c __gxx_personality_v0 + 253196\n16  chromedriver                        0x000000010eb1f458 __gxx_personality_v0 + 511464\n17  chromedriver                        0x000000010eb1f5e1 __gxx_personality_v0 + 511857\n18  chromedriver                        0x000000010eb36968 __gxx_personality_v0 + 606968\n19  libsystem_pthread.dylib             0x00007fff6c982109 _pthread_start + 148\n20  libsystem_pthread.dylib             0x00007fff6c97db8b thread_start + 15\n"
     ]
    }
   ],
   "source": [
    "username.send_keys(\"rroczbikpplzvhotou@mrvpt.com\")\n",
    "password.send_keys(\"hebedebe\")\n",
    "loginButton.submit()"
   ]
  },
  {
   "cell_type": "code",
   "execution_count": 30,
   "metadata": {},
   "outputs": [],
   "source": [
    "page_source = driver.page_source\n",
    "soup = BeautifulSoup(page_source, 'html.parser')"
   ]
  },
  {
   "cell_type": "code",
   "execution_count": 31,
   "metadata": {},
   "outputs": [
    {
     "data": {
      "text/plain": [
       "[<input name=\"loginCsrfParam\" type=\"hidden\" value=\"47ed78e0-e61d-4b11-8d0c-44c92520040e\"/>,\n",
       " <input autocomplete=\"username\" class=\"input__input\" id=\"session_key\" name=\"session_key\" placeholder=\" \" required=\"true\" type=\"text\"/>,\n",
       " <input autocomplete=\"current-password\" class=\"input__input\" id=\"session_password\" name=\"session_password\" placeholder=\" \" required=\"true\" type=\"password\"/>,\n",
       " <input name=\"trk\" type=\"hidden\" value=\"homepage-basic_signin-form_submit\"/>,\n",
       " <input name=\"controlId\" type=\"hidden\" value=\"d_homepage-guest-home-homepage-basic_signin-form_submit-button\"/>,\n",
       " <input name=\"pageInstance\" type=\"hidden\" value=\"urn:li:page:d_homepage-guest-home_jsbeacon;/Wrft5zeSz6Wvouxhg31Fw==\"/>,\n",
       " <input name=\"loginCsrfParam\" type=\"hidden\" value=\"47ed78e0-e61d-4b11-8d0c-44c92520040e\"/>,\n",
       " <input name=\"trk\" type=\"hidden\" value=\"homepage-basic_google-sign-in-submit\"/>,\n",
       " <input name=\"controlId\" type=\"hidden\" value=\"d_homepage-guest-home-homepage-basic_google-sign-in-button\"/>,\n",
       " <input name=\"pageInstance\" type=\"hidden\" value=\"urn:li:page:d_homepage-guest-home_jsbeacon;/Wrft5zeSz6Wvouxhg31Fw==\"/>,\n",
       " <input name=\"loginCsrfParam\" type=\"hidden\" value=\"47ed78e0-e61d-4b11-8d0c-44c92520040e\"/>,\n",
       " <input name=\"trk\" type=\"hidden\" value=\"homepage-basic_google-one-tap-submit\"/>,\n",
       " <input name=\"controlId\" type=\"hidden\" value=\"d_homepage-guest-home-homepage-basic_google-one-tap\"/>,\n",
       " <input name=\"pageInstance\" type=\"hidden\" value=\"urn:li:page:d_homepage-guest-home_jsbeacon;/Wrft5zeSz6Wvouxhg31Fw==\"/>]"
      ]
     },
     "execution_count": 31,
     "metadata": {},
     "output_type": "execute_result"
    }
   ],
   "source": [
    "soup.find_all(\"input\")"
   ]
  },
  {
   "cell_type": "code",
   "execution_count": null,
   "metadata": {},
   "outputs": [],
   "source": []
  }
 ],
 "metadata": {
  "kernelspec": {
   "display_name": "Python 3",
   "language": "python",
   "name": "python3"
  },
  "language_info": {
   "codemirror_mode": {
    "name": "ipython",
    "version": 3
   },
   "file_extension": ".py",
   "mimetype": "text/x-python",
   "name": "python",
   "nbconvert_exporter": "python",
   "pygments_lexer": "ipython3",
   "version": "3.8.5"
  }
 },
 "nbformat": 4,
 "nbformat_minor": 4
}
